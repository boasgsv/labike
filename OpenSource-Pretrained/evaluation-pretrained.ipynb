{
 "cells": [
  {
   "cell_type": "code",
   "execution_count": null,
   "id": "3c1c2b8d",
   "metadata": {},
   "outputs": [],
   "source": [
    "import pandas as pd\n",
    "\n",
    "df = pd.read_pickle('df.pkl').reset_index(drop=True)"
   ]
  },
  {
   "cell_type": "code",
   "execution_count": 2,
   "id": "79de1dcd",
   "metadata": {},
   "outputs": [
    {
     "data": {
      "text/html": [
       "<div>\n",
       "<style scoped>\n",
       "    .dataframe tbody tr th:only-of-type {\n",
       "        vertical-align: middle;\n",
       "    }\n",
       "\n",
       "    .dataframe tbody tr th {\n",
       "        vertical-align: top;\n",
       "    }\n",
       "\n",
       "    .dataframe thead th {\n",
       "        text-align: right;\n",
       "    }\n",
       "</style>\n",
       "<table border=\"1\" class=\"dataframe\">\n",
       "  <thead>\n",
       "    <tr style=\"text-align: right;\">\n",
       "      <th></th>\n",
       "      <th>doi</th>\n",
       "      <th>texto</th>\n",
       "      <th>name</th>\n",
       "      <th>collectionType</th>\n",
       "      <th>collectionSite</th>\n",
       "      <th>collectionSpecie</th>\n",
       "      <th>bioActivity</th>\n",
       "    </tr>\n",
       "  </thead>\n",
       "  <tbody>\n",
       "    <tr>\n",
       "      <th>0</th>\n",
       "      <td>10.1016/S0031-9422(00)00248-X</td>\n",
       "      <td>10.1016@S0031-9422(00)00248-X.pdf\\nPage 1\\nPyr...</td>\n",
       "      <td>[2'-hydroxy-3,4,4'-trimethoxy-5',6'-(2'',2''-d...</td>\n",
       "      <td>[Plant Isolated]</td>\n",
       "      <td>[N/A/ES]</td>\n",
       "      <td>[Neoraputia magnifica (Rutaceae)]</td>\n",
       "      <td>[Antitrypanosomal]</td>\n",
       "    </tr>\n",
       "    <tr>\n",
       "      <th>1</th>\n",
       "      <td>10.1002/ptr.1249</td>\n",
       "      <td>10.1002@ptr.1249.pdf\\nPage 1\\nAntioxidant Flav...</td>\n",
       "      <td>[Ourateacatechin, (-)-Epigallocatechin, Proant...</td>\n",
       "      <td>[Plant Isolated]</td>\n",
       "      <td>[Ribeirao Preto/SP]</td>\n",
       "      <td>[Maytenus aquifolium (Celastraceae)]</td>\n",
       "      <td>[Antioxidant]</td>\n",
       "    </tr>\n",
       "    <tr>\n",
       "      <th>2</th>\n",
       "      <td>10.1016/0031-9422(73)85048-4</td>\n",
       "      <td>10.1016@0031-9422(73)85048-4.pdf\\nPage 1\\nIso-...</td>\n",
       "      <td>[7-Hydroxy-4',6-dimethoxyisoflavone; Afrormosi...</td>\n",
       "      <td>[Plant Isolated]</td>\n",
       "      <td>[N/A/AM]</td>\n",
       "      <td>[Dalbergia riparia]</td>\n",
       "      <td>[Antitrypanosomal]</td>\n",
       "    </tr>\n",
       "    <tr>\n",
       "      <th>3</th>\n",
       "      <td>10.1021/np0303963</td>\n",
       "      <td>10.1021@np0303963.pdf\\nPage 1\\nFurther Bioacti...</td>\n",
       "      <td>[(-)-3-O-acetyl-spectaline]</td>\n",
       "      <td>[Plant Isolated]</td>\n",
       "      <td>[Sao Paulo/SP]</td>\n",
       "      <td>[Cassia spectabilis (Fabaceae)]</td>\n",
       "      <td>[Cytotoxic]</td>\n",
       "    </tr>\n",
       "    <tr>\n",
       "      <th>4</th>\n",
       "      <td>10.4067/S0717-97072009000300004</td>\n",
       "      <td>10.4067@S0717-97072009000300004.pdf\\nPage 1\\nI...</td>\n",
       "      <td>[Taraxerol acetate]</td>\n",
       "      <td>[Plant Isolated]</td>\n",
       "      <td>[Sao Paulo/SP]</td>\n",
       "      <td>[Pterogyne nitens (Fabaceae)]</td>\n",
       "      <td>[Inhibition of Glycosidase]</td>\n",
       "    </tr>\n",
       "    <tr>\n",
       "      <th>...</th>\n",
       "      <td>...</td>\n",
       "      <td>...</td>\n",
       "      <td>...</td>\n",
       "      <td>...</td>\n",
       "      <td>...</td>\n",
       "      <td>...</td>\n",
       "      <td>...</td>\n",
       "    </tr>\n",
       "    <tr>\n",
       "      <th>138</th>\n",
       "      <td>10.1080/14786410802243271</td>\n",
       "      <td>10.1080@14786410802243271.pdf\\nPage 1\\nTo cite...</td>\n",
       "      <td>[4-Hydroxy-(3',7'-dimethyl-1'-oxo-octa-2'-E-6'...</td>\n",
       "      <td>[Plant Isolated]</td>\n",
       "      <td>[N/A/SP]</td>\n",
       "      <td>[Piper crassinervium (Piperaceae)]</td>\n",
       "      <td>[Antitrypanosomal]</td>\n",
       "    </tr>\n",
       "    <tr>\n",
       "      <th>139</th>\n",
       "      <td>10.1590/S0100-40422006000300016</td>\n",
       "      <td>10.1590@S0100-40422006000300016.pdf\\nPage 1\\nC...</td>\n",
       "      <td>[(-)-Epigallocatechin-3-O-gallate]</td>\n",
       "      <td>[Plant Isolated]</td>\n",
       "      <td>[Ibate/SP]</td>\n",
       "      <td>[Chrysophyllum marginatum (Sapotaceae)]</td>\n",
       "      <td>[Antioxidant]</td>\n",
       "    </tr>\n",
       "    <tr>\n",
       "      <th>140</th>\n",
       "      <td>10.1016/j.cbi.2010.08.008</td>\n",
       "      <td>10.1016@j.cbi.2010.08.008.pdf\\nPage 1\\nCaseari...</td>\n",
       "      <td>[Casearin X; (1R*,3S*,5S*,6aR*,7S*,8S*,10R*,10...</td>\n",
       "      <td>[Plant Isolated]</td>\n",
       "      <td>[Sao Miguel Arcanjo/SP]</td>\n",
       "      <td>[Casearia sylvestris (Flacourtiaceae)]</td>\n",
       "      <td>[Cytotoxic, Anticancer]</td>\n",
       "    </tr>\n",
       "    <tr>\n",
       "      <th>141</th>\n",
       "      <td>10.1016/S0031-9422(01)00431-9</td>\n",
       "      <td>10.1016@S0031-9422(01)00431-9.pdf\\nPage 1\\nAnt...</td>\n",
       "      <td>[Fagaramide, Methyl (E)-6,7,8-trimethoxycinnam...</td>\n",
       "      <td>[Plant Isolated]</td>\n",
       "      <td>[Araraquara/SP, Manaus/AM]</td>\n",
       "      <td>[Piper tuberculatum (Piperaceae), Piper arbore...</td>\n",
       "      <td>[Antifungal]</td>\n",
       "    </tr>\n",
       "    <tr>\n",
       "      <th>142</th>\n",
       "      <td>10.1016/S0031-9422(97)00238-0</td>\n",
       "      <td>10.1016@S0031-9422(97)00238-0.pdf\\nPage 1\\nIri...</td>\n",
       "      <td>[Ferulic acid, α-Gardiol, β-Gardiol]</td>\n",
       "      <td>[Plant Isolated]</td>\n",
       "      <td>[Mogi Guacu/SP]</td>\n",
       "      <td>[Tocoyena formosa (Rubiaceae)]</td>\n",
       "      <td>[Antioxidant, Antifungal]</td>\n",
       "    </tr>\n",
       "  </tbody>\n",
       "</table>\n",
       "<p>143 rows × 7 columns</p>\n",
       "</div>"
      ],
      "text/plain": [
       "                                 doi  \\\n",
       "0      10.1016/S0031-9422(00)00248-X   \n",
       "1                   10.1002/ptr.1249   \n",
       "2       10.1016/0031-9422(73)85048-4   \n",
       "3                  10.1021/np0303963   \n",
       "4    10.4067/S0717-97072009000300004   \n",
       "..                               ...   \n",
       "138        10.1080/14786410802243271   \n",
       "139  10.1590/S0100-40422006000300016   \n",
       "140        10.1016/j.cbi.2010.08.008   \n",
       "141    10.1016/S0031-9422(01)00431-9   \n",
       "142    10.1016/S0031-9422(97)00238-0   \n",
       "\n",
       "                                                 texto  \\\n",
       "0    10.1016@S0031-9422(00)00248-X.pdf\\nPage 1\\nPyr...   \n",
       "1    10.1002@ptr.1249.pdf\\nPage 1\\nAntioxidant Flav...   \n",
       "2    10.1016@0031-9422(73)85048-4.pdf\\nPage 1\\nIso-...   \n",
       "3    10.1021@np0303963.pdf\\nPage 1\\nFurther Bioacti...   \n",
       "4    10.4067@S0717-97072009000300004.pdf\\nPage 1\\nI...   \n",
       "..                                                 ...   \n",
       "138  10.1080@14786410802243271.pdf\\nPage 1\\nTo cite...   \n",
       "139  10.1590@S0100-40422006000300016.pdf\\nPage 1\\nC...   \n",
       "140  10.1016@j.cbi.2010.08.008.pdf\\nPage 1\\nCaseari...   \n",
       "141  10.1016@S0031-9422(01)00431-9.pdf\\nPage 1\\nAnt...   \n",
       "142  10.1016@S0031-9422(97)00238-0.pdf\\nPage 1\\nIri...   \n",
       "\n",
       "                                                  name    collectionType  \\\n",
       "0    [2'-hydroxy-3,4,4'-trimethoxy-5',6'-(2'',2''-d...  [Plant Isolated]   \n",
       "1    [Ourateacatechin, (-)-Epigallocatechin, Proant...  [Plant Isolated]   \n",
       "2    [7-Hydroxy-4',6-dimethoxyisoflavone; Afrormosi...  [Plant Isolated]   \n",
       "3                          [(-)-3-O-acetyl-spectaline]  [Plant Isolated]   \n",
       "4                                  [Taraxerol acetate]  [Plant Isolated]   \n",
       "..                                                 ...               ...   \n",
       "138  [4-Hydroxy-(3',7'-dimethyl-1'-oxo-octa-2'-E-6'...  [Plant Isolated]   \n",
       "139                 [(-)-Epigallocatechin-3-O-gallate]  [Plant Isolated]   \n",
       "140  [Casearin X; (1R*,3S*,5S*,6aR*,7S*,8S*,10R*,10...  [Plant Isolated]   \n",
       "141  [Fagaramide, Methyl (E)-6,7,8-trimethoxycinnam...  [Plant Isolated]   \n",
       "142               [Ferulic acid, α-Gardiol, β-Gardiol]  [Plant Isolated]   \n",
       "\n",
       "                 collectionSite  \\\n",
       "0                      [N/A/ES]   \n",
       "1           [Ribeirao Preto/SP]   \n",
       "2                      [N/A/AM]   \n",
       "3                [Sao Paulo/SP]   \n",
       "4                [Sao Paulo/SP]   \n",
       "..                          ...   \n",
       "138                    [N/A/SP]   \n",
       "139                  [Ibate/SP]   \n",
       "140     [Sao Miguel Arcanjo/SP]   \n",
       "141  [Araraquara/SP, Manaus/AM]   \n",
       "142             [Mogi Guacu/SP]   \n",
       "\n",
       "                                      collectionSpecie  \\\n",
       "0                    [Neoraputia magnifica (Rutaceae)]   \n",
       "1                 [Maytenus aquifolium (Celastraceae)]   \n",
       "2                                  [Dalbergia riparia]   \n",
       "3                      [Cassia spectabilis (Fabaceae)]   \n",
       "4                        [Pterogyne nitens (Fabaceae)]   \n",
       "..                                                 ...   \n",
       "138                 [Piper crassinervium (Piperaceae)]   \n",
       "139            [Chrysophyllum marginatum (Sapotaceae)]   \n",
       "140             [Casearia sylvestris (Flacourtiaceae)]   \n",
       "141  [Piper tuberculatum (Piperaceae), Piper arbore...   \n",
       "142                     [Tocoyena formosa (Rubiaceae)]   \n",
       "\n",
       "                     bioActivity  \n",
       "0             [Antitrypanosomal]  \n",
       "1                  [Antioxidant]  \n",
       "2             [Antitrypanosomal]  \n",
       "3                    [Cytotoxic]  \n",
       "4    [Inhibition of Glycosidase]  \n",
       "..                           ...  \n",
       "138           [Antitrypanosomal]  \n",
       "139                [Antioxidant]  \n",
       "140      [Cytotoxic, Anticancer]  \n",
       "141                 [Antifungal]  \n",
       "142    [Antioxidant, Antifungal]  \n",
       "\n",
       "[143 rows x 7 columns]"
      ]
     },
     "execution_count": 2,
     "metadata": {},
     "output_type": "execute_result"
    }
   ],
   "source": [
    "df"
   ]
  },
  {
   "cell_type": "code",
   "execution_count": 3,
   "id": "26dcd3cc",
   "metadata": {},
   "outputs": [],
   "source": [
    "dict_system_prompts = {\n",
    "    \"name\": \"\"\"You are a scientist trained in chemistry. \n",
    "You must extract information from scientific papers identifying relevant properties associated with each natural product discussed in the academic publication.\n",
    "For each paper, you have to analyze the content (text) to identify the *Compound name*. It can be more than one compound name. \n",
    "Your output should be a list with the names. No more text or explanation, just the list, even if it is only one element, put it between []!!!!\n",
    "\"\"\",\n",
    "    \"bioActivity\": \"\"\"You are a scientist trained in chemistry. \n",
    "You must extract information from scientific papers identifying relevant properties associated with each natural product discussed in the academic publication.\n",
    "For each paper, you have to analyze the content (text) to identify the *Biological Activity*.  It can be more than one biological activity. \n",
    "Your output should be a list with the biological activities. No more text or explanation, just the list, even if it is only one element, put it between []!!!!\n",
    "Options of biological activities:\n",
    "['Anesthetic', 'Inhibition of Cathepsin V', 'Mutagenic', 'Antiangiogenic', 'Inhibition of Acetylcholinesterase', 'Inhibition of Cathepsin L', 'Inhibition of Myeloperoxodase', 'Antinociceptive', 'Antioxidant', 'Cell growth inhbition', 'Antichagasic', 'Antileishmanial', 'Genotoxic', 'Inhibition of Protease', 'Cytotoxic', 'Inhibition of phosphorylating electron transport', 'Antiallergenic', 'Inhibition of basal electron transport', 'Antitrypanosomal', 'Antibacterial', 'Insect antennae response', 'Antimalarial', 'Molluscicidal', 'Antifungal', 'Anxiolytic', 'Anti-inflamatory', 'Inhibition of Glycosidase', 'Anticancer', 'Inhibition of Cathepsin B', 'Insecticidal', 'Inhibition of ATP synthesis', 'Antiviral', 'Inhibition of uncoupled electron transport']\n",
    "\"\"\",\n",
    "    \"collectionSpecie\": \"\"\"You are a scientist trained in chemistry. \n",
    "You must extract information from scientific papers identifying relevant properties associated with each natural product discussed in the academic publication.\n",
    "For each paper, you have to analyze the content (text) to identify the *Collection Specie*, i.e., Species from which natural products were extracted. Provide the scientific name, binomial form. Family name can be provided. For example 'Tithonia diversifolia', 'Styrax camporum (Styracaceae)', or 'Colletotrichum gloeosporioides (Phyllachoraceae)'.\n",
    "Your output should be a list with the collection species. No more text or explanation, just the list, even if it is only one element, put it between []!!!!\n",
    "\"\"\",\n",
    "    \"collectionType\": \"\"\"You are a scientist trained in chemistry. \n",
    "You must extract information from scientific papers identifying relevant properties associated with each natural product discussed in the academic publication.\n",
    "For each paper, you have to analyze the content (text) to identify the Collection Type*, i.e., Collection type of the species. \n",
    "Your output should be a list with the collection type. No more text or explanation, just the list, even if it is only one element, put it between []!!!!\n",
    "Options of collection types: \n",
    "['Biotransformation Product', 'Plant Isolated', 'Semisynthesis Product', 'Microorganism isolated', 'Plant Isolated, Microorganism isolated'].\n",
    "\"\"\",\n",
    "    \"collectionSite\": \"\"\"You are a scientist trained in chemistry. \n",
    "You must extract information from scientific papers identifying relevant properties associated with each natural product discussed in the academic publication.\n",
    "For each paper, you have to analyze the content (text) to identify the *collection Site *, i.e., the place of the collection. \n",
    "Your output should be a list with the place or places. no more text or explanation, just the list, even if it is only one element, put it between []!!!!\n",
    "Options of places: \n",
    "['Sao Carlos/SP', 'Pocos De Caldas/MG', 'Araraquara/SP', 'Teodoro Sampaio/SP', 'Murici/AL', 'Maues/AM', 'Sao Sebastiao Do Passe/BA', 'Igarape-acu/PA', 'Itacoatiara/AM', 'Apore/GO', 'Peruibe/SP', 'Sao Paulo/SP', 'Pocos De Caldas/MG, Lonchocarpus atropurpureus', 'Ibirama/SC', 'Rio Claro/SP', 'Iguape/SP', 'Goiania/GO', 'Sao Miguel Arcanjo/SP', 'Rifaina/SP', 'Piracicaba/SP', 'N/A/CE', 'Urucuca/BA', 'Campinas/SP', 'Corumba/MS', 'Lavras/MG', 'Ribeirao Preto/SP, Nigrospora sphaerica', 'N/A/SP, Cedrela fissilis', 'Recife/PE', 'Cordeiropolis/SP', 'Santarem/PA', 'Itaituba/PA', 'Londrina/PR', 'Cuiaba/MT', 'Ribeirao Preto/SP', 'Itirapina/SP', 'Manaus/AM', 'Mogi Guacu/SP', 'N/A/MS', 'N/A/MG', 'Belem/PA', 'N/A/ES', 'Ibate/SP', 'N/A/PE', 'Cunha/SP', 'Rio De Janeiro/RJ', 'Chapada Dos Guimaraes/MT', 'N/A/SP', 'N/A/AM', 'Vicosa/MG', 'Rio Verde/GO', 'Pirenopolis/GO']\n",
    "\"\"\"\n",
    "}"
   ]
  },
  {
   "cell_type": "code",
   "execution_count": 4,
   "id": "205039f1",
   "metadata": {},
   "outputs": [],
   "source": [
    "def llm_call(dict_system_prompts, tarefa, input, model, tokenizer, temperature):\n",
    "    messages = [\n",
    "        {\"role\": \"system\", \"content\": dict_system_prompts[tarefa]},\n",
    "        {\"role\": \"user\", \"content\": input}]\n",
    "\n",
    "    inputs = tokenizer.apply_chat_template(\n",
    "        messages,\n",
    "        tokenize=True,\n",
    "        add_generation_prompt=True,\n",
    "        return_tensors=\"pt\",\n",
    "    ).to(\"cuda\")\n",
    "\n",
    "    outputs = model.generate(\n",
    "        input_ids=inputs,\n",
    "        max_new_tokens=2048,\n",
    "        use_cache=True,\n",
    "        temperature=temperature,\n",
    "        min_p=0.1\n",
    "    )\n",
    "\n",
    "    decoded = tokenizer.batch_decode(outputs)[0]\n",
    "        \n",
    "    result = decoded[decoded.find(\"<|im_start|>assistant\"):].replace(\"<|im_start|>assistant\", \"\").replace(\"<|im_end|>\", \"\")\n",
    "    \n",
    "    return result"
   ]
  },
  {
   "cell_type": "code",
   "execution_count": 5,
   "id": "86a9ac8f",
   "metadata": {},
   "outputs": [
    {
     "name": "stdout",
     "output_type": "stream",
     "text": [
      "🦥 Unsloth: Will patch your computer to enable 2x faster free finetuning.\n"
     ]
    },
    {
     "name": "stderr",
     "output_type": "stream",
     "text": [
      "/home/mgolo/miniconda3/envs/text2sparql_env/lib/python3.12/site-packages/tqdm/auto.py:21: TqdmWarning: IProgress not found. Please update jupyter and ipywidgets. See https://ipywidgets.readthedocs.io/en/stable/user_install.html\n",
      "  from .autonotebook import tqdm as notebook_tqdm\n"
     ]
    },
    {
     "name": "stdout",
     "output_type": "stream",
     "text": [
      "🦥 Unsloth Zoo will now patch everything to make training faster!\n",
      "==((====))==  Unsloth 2025.5.7: Fast Qwen2 patching. Transformers: 4.51.3.\n",
      "   \\\\   /|    NVIDIA L40S. Num GPUs = 1. Max memory: 44.418 GB. Platform: Linux.\n",
      "O^O/ \\_/ \\    Torch: 2.7.0+cu126. CUDA: 8.9. CUDA Toolkit: 12.6. Triton: 3.3.0\n",
      "\\        /    Bfloat16 = TRUE. FA [Xformers = 0.0.30. FA2 = False]\n",
      " \"-____-\"     Free license: http://github.com/unslothai/unsloth\n",
      "Unsloth: Fast downloading is enabled - ignore downloading bars which are red colored!\n"
     ]
    },
    {
     "name": "stderr",
     "output_type": "stream",
     "text": [
      "Loading checkpoint shards: 100%|██████████| 4/4 [00:03<00:00,  1.04it/s]\n"
     ]
    }
   ],
   "source": [
    "from unsloth import FastLanguageModel\n",
    "\n",
    "max_seq_length = 16384  \n",
    "load_in_4bit = True  \n",
    "\n",
    "model, tokenizer = FastLanguageModel.from_pretrained(\n",
    "    model_name = \"unsloth/Qwen2.5-32B-Instruct-bnb-4bit\",\n",
    "    max_seq_length = max_seq_length,\n",
    "    load_in_4bit = load_in_4bit\n",
    ")\n",
    "\n",
    "_ = FastLanguageModel.for_inference(model)"
   ]
  },
  {
   "cell_type": "code",
   "execution_count": 10,
   "id": "8b185be5",
   "metadata": {},
   "outputs": [
    {
     "name": "stderr",
     "output_type": "stream",
     "text": [
      "7it [02:44, 21.98s/it]"
     ]
    },
    {
     "name": "stdout",
     "output_type": "stream",
     "text": [
      "10.1590/S0100-40422008000400005 collectionSpecie\n"
     ]
    },
    {
     "name": "stderr",
     "output_type": "stream",
     "text": [
      "22it [08:14, 23.43s/it]<string>:3: SyntaxWarning: invalid escape sequence '\\p'\n",
      "<string>:4: SyntaxWarning: invalid escape sequence '\\p'\n",
      "<string>:5: SyntaxWarning: invalid escape sequence '\\p'\n",
      "<string>:6: SyntaxWarning: invalid escape sequence '\\p'\n",
      "26it [09:35, 20.21s/it]"
     ]
    },
    {
     "name": "stdout",
     "output_type": "stream",
     "text": [
      "10.1590/S0102-695X2007000300003 collectionSpecie\n"
     ]
    },
    {
     "name": "stderr",
     "output_type": "stream",
     "text": [
      "30it [10:59, 21.13s/it]"
     ]
    },
    {
     "name": "stdout",
     "output_type": "stream",
     "text": [
      "10.1016/0031-9422(90)80024-B collectionSpecie\n"
     ]
    },
    {
     "name": "stderr",
     "output_type": "stream",
     "text": [
      "37it [13:45, 26.67s/it]"
     ]
    },
    {
     "name": "stdout",
     "output_type": "stream",
     "text": [
      "10.1248/bpb.31.538 name\n",
      "10.1016/j.jphotobiol.2013.01.006 collectionSite\n"
     ]
    },
    {
     "name": "stderr",
     "output_type": "stream",
     "text": [
      "40it [14:46, 21.17s/it]"
     ]
    },
    {
     "name": "stdout",
     "output_type": "stream",
     "text": [
      "10.1021/np030100t name\n"
     ]
    },
    {
     "name": "stderr",
     "output_type": "stream",
     "text": [
      "42it [15:27, 20.95s/it]"
     ]
    },
    {
     "name": "stdout",
     "output_type": "stream",
     "text": [
      "10.1590/S0103-50532005000800029 collectionSpecie\n"
     ]
    },
    {
     "name": "stderr",
     "output_type": "stream",
     "text": [
      "45it [16:14, 17.92s/it]"
     ]
    },
    {
     "name": "stdout",
     "output_type": "stream",
     "text": [
      "10.1107/S160053680302107X collectionSpecie\n"
     ]
    },
    {
     "name": "stderr",
     "output_type": "stream",
     "text": [
      "61it [21:36, 25.12s/it]"
     ]
    },
    {
     "name": "stdout",
     "output_type": "stream",
     "text": [
      "10.1590/S0100-40422012000700020 collectionSpecie\n"
     ]
    },
    {
     "name": "stderr",
     "output_type": "stream",
     "text": [
      "66it [24:03, 26.84s/it]"
     ]
    },
    {
     "name": "stdout",
     "output_type": "stream",
     "text": [
      "10.1016/j.jep.2007.09.020 collectionSpecie\n"
     ]
    },
    {
     "name": "stderr",
     "output_type": "stream",
     "text": [
      "68it [24:29, 20.09s/it]"
     ]
    },
    {
     "name": "stdout",
     "output_type": "stream",
     "text": [
      "10.1590/S0102-695X2012005000106 collectionSpecie\n"
     ]
    },
    {
     "name": "stderr",
     "output_type": "stream",
     "text": [
      "69it [24:48, 19.55s/it]"
     ]
    },
    {
     "name": "stdout",
     "output_type": "stream",
     "text": [
      "10.1021/np900644x collectionSpecie\n"
     ]
    },
    {
     "name": "stderr",
     "output_type": "stream",
     "text": [
      "74it [26:22, 19.20s/it]"
     ]
    },
    {
     "name": "stdout",
     "output_type": "stream",
     "text": [
      "10.1016/j.phytochem.2006.09.005 collectionSpecie\n"
     ]
    },
    {
     "name": "stderr",
     "output_type": "stream",
     "text": [
      "77it [27:24, 19.38s/it]"
     ]
    },
    {
     "name": "stdout",
     "output_type": "stream",
     "text": [
      "10.1021/np50086a012 collectionSpecie\n"
     ]
    },
    {
     "name": "stderr",
     "output_type": "stream",
     "text": [
      "79it [27:54, 17.76s/it]"
     ]
    },
    {
     "name": "stdout",
     "output_type": "stream",
     "text": [
      "10.1016/j.phytol.2010.11.003 name\n"
     ]
    },
    {
     "name": "stderr",
     "output_type": "stream",
     "text": [
      "85it [29:48, 17.33s/it]"
     ]
    },
    {
     "name": "stdout",
     "output_type": "stream",
     "text": [
      "10.1021/np100840w collectionSpecie\n"
     ]
    },
    {
     "name": "stderr",
     "output_type": "stream",
     "text": [
      "87it [30:39, 21.68s/it]"
     ]
    },
    {
     "name": "stdout",
     "output_type": "stream",
     "text": [
      "10.1016/S0031-9422(03)00153-5 collectionSpecie\n"
     ]
    },
    {
     "name": "stderr",
     "output_type": "stream",
     "text": [
      "90it [31:50, 22.99s/it]"
     ]
    },
    {
     "name": "stdout",
     "output_type": "stream",
     "text": [
      "10.1021/np4006822 collectionSpecie\n"
     ]
    },
    {
     "name": "stderr",
     "output_type": "stream",
     "text": [
      "94it [33:14, 21.34s/it]"
     ]
    },
    {
     "name": "stdout",
     "output_type": "stream",
     "text": [
      "10.1590/S0103-50532002000100019 collectionSpecie\n"
     ]
    },
    {
     "name": "stderr",
     "output_type": "stream",
     "text": [
      "98it [34:35, 22.58s/it]"
     ]
    },
    {
     "name": "stdout",
     "output_type": "stream",
     "text": [
      "10.1016/j.jchromb.2012.07.013 collectionSpecie\n"
     ]
    },
    {
     "name": "stderr",
     "output_type": "stream",
     "text": [
      "99it [34:57, 22.65s/it]"
     ]
    },
    {
     "name": "stdout",
     "output_type": "stream",
     "text": [
      "10.1002/ps.478 collectionSpecie\n"
     ]
    },
    {
     "name": "stderr",
     "output_type": "stream",
     "text": [
      "102it [36:15, 26.17s/it]"
     ]
    },
    {
     "name": "stdout",
     "output_type": "stream",
     "text": [
      "10.1023/A:1025694720727 collectionSpecie\n"
     ]
    },
    {
     "name": "stderr",
     "output_type": "stream",
     "text": [
      "109it [38:38, 19.54s/it]"
     ]
    },
    {
     "name": "stdout",
     "output_type": "stream",
     "text": [
      "10.1590/S0100-40421998000600005 collectionSpecie\n"
     ]
    },
    {
     "name": "stderr",
     "output_type": "stream",
     "text": [
      "112it [41:05, 44.57s/it]"
     ]
    },
    {
     "name": "stdout",
     "output_type": "stream",
     "text": [
      "10.1021/jf60217a066 collectionSpecie\n"
     ]
    },
    {
     "name": "stderr",
     "output_type": "stream",
     "text": [
      "<string>:2: SyntaxWarning: invalid escape sequence '\\g'\n",
      "113it [41:14, 33.84s/it]"
     ]
    },
    {
     "name": "stdout",
     "output_type": "stream",
     "text": [
      "10.1590/S0100-40422010000900005 collectionSpecie\n"
     ]
    },
    {
     "name": "stderr",
     "output_type": "stream",
     "text": [
      "114it [41:25, 26.95s/it]<string>:2: SyntaxWarning: invalid escape sequence '\\g'\n",
      "116it [42:26, 29.85s/it]"
     ]
    },
    {
     "name": "stdout",
     "output_type": "stream",
     "text": [
      "10.1107/S1600536803019913 collectionSpecie\n"
     ]
    },
    {
     "name": "stderr",
     "output_type": "stream",
     "text": [
      "124it [45:11, 23.11s/it]"
     ]
    },
    {
     "name": "stdout",
     "output_type": "stream",
     "text": [
      "10.1590/S0100-40422005000600011 collectionSpecie\n"
     ]
    },
    {
     "name": "stderr",
     "output_type": "stream",
     "text": [
      "133it [48:46, 21.98s/it]"
     ]
    },
    {
     "name": "stdout",
     "output_type": "stream",
     "text": [
      "10.1590/s0100-40422008000700015 collectionSpecie\n"
     ]
    },
    {
     "name": "stderr",
     "output_type": "stream",
     "text": [
      "136it [50:40, 36.51s/it]"
     ]
    },
    {
     "name": "stdout",
     "output_type": "stream",
     "text": [
      "10.5935/0100-4042.20140049 collectionSpecie\n"
     ]
    },
    {
     "name": "stderr",
     "output_type": "stream",
     "text": [
      "143it [54:02, 22.68s/it]\n"
     ]
    }
   ],
   "source": [
    "from tqdm import tqdm\n",
    "tarefas = ['bioActivity', 'collectionSite', 'collectionSpecie', 'collectionType', 'name']\n",
    "\n",
    "temperature = 0.00001\n",
    "\n",
    "for index, row in tqdm(df.iterrows()):\n",
    "    for tarefa in tarefas:\n",
    "        input = row['texto']\n",
    "        output = llm_call(dict_system_prompts, tarefa, input, model, tokenizer, temperature)\n",
    "        try:\n",
    "            l_out = eval(output)\n",
    "            df.at[index,tarefa + '_llm'] = l_out\n",
    "        except:\n",
    "            df.at[index,tarefa + '_llm'] = output\n",
    "            print(row['doi'], tarefa)"
   ]
  },
  {
   "cell_type": "code",
   "execution_count": 12,
   "id": "66b3a418",
   "metadata": {},
   "outputs": [],
   "source": [
    "df.to_pickle('df_qwen32b-zero-shot.pkl')"
   ]
  },
  {
   "cell_type": "code",
   "execution_count": 41,
   "id": "e216d284",
   "metadata": {},
   "outputs": [],
   "source": [
    "import pandas as pd\n",
    "\n",
    "tarefas = ['bioActivity', 'collectionSite', 'collectionSpecie', 'collectionType', 'name']\n",
    "\n",
    "df = pd.read_pickle('df_qwen32b-zero-shot.pkl')\n",
    "\n",
    "for index, row in df.iterrows():\n",
    "    for tarefa in tarefas:\n",
    "        if type(row[tarefa + '_llm']) != list:\n",
    "            string = row[tarefa + '_llm'].replace('\\n', '').replace(']]', ']')\n",
    "            try:\n",
    "                l = eval(string)\n",
    "                df.at[index,tarefa + '_llm'] = l\n",
    "            except:\n",
    "                parts = string.split(',')\n",
    "                if len(parts) == 1:\n",
    "                    string = string.replace(']', '\\']').replace('[', '[\\'')\n",
    "                    try:\n",
    "                        l = eval(string)\n",
    "                        df.at[index,tarefa + '_llm'] = l\n",
    "                    except:\n",
    "                        print(string)   \n",
    "                else:\n",
    "                    l = []\n",
    "                    string = string.replace(']', '').replace('[', '')\n",
    "                    parts = string.strip().split(',')\n",
    "                    for p in parts:\n",
    "                        l.append(str(p))\n",
    "                    df.at[index,tarefa + '_llm'] = l                "
   ]
  },
  {
   "cell_type": "code",
   "execution_count": 42,
   "id": "4843016a",
   "metadata": {},
   "outputs": [],
   "source": [
    "for index, row in df.iterrows():\n",
    "    for tarefa in tarefas:\n",
    "        if type(row[tarefa + '_llm']) != list:\n",
    "            print(row['doi'])\n",
    "            print(row[tarefa + '_llm'])"
   ]
  },
  {
   "cell_type": "code",
   "execution_count": 43,
   "id": "d7ae1042",
   "metadata": {},
   "outputs": [],
   "source": [
    "df.to_pickle('df_qwen32b-zero-shot-clean.pkl')"
   ]
  },
  {
   "cell_type": "code",
   "execution_count": 2,
   "id": "1d33e74d",
   "metadata": {},
   "outputs": [
    {
     "data": {
      "text/html": [
       "<div>\n",
       "<style scoped>\n",
       "    .dataframe tbody tr th:only-of-type {\n",
       "        vertical-align: middle;\n",
       "    }\n",
       "\n",
       "    .dataframe tbody tr th {\n",
       "        vertical-align: top;\n",
       "    }\n",
       "\n",
       "    .dataframe thead th {\n",
       "        text-align: right;\n",
       "    }\n",
       "</style>\n",
       "<table border=\"1\" class=\"dataframe\">\n",
       "  <thead>\n",
       "    <tr style=\"text-align: right;\">\n",
       "      <th></th>\n",
       "      <th>doi</th>\n",
       "      <th>texto</th>\n",
       "      <th>name</th>\n",
       "      <th>collectionType</th>\n",
       "      <th>collectionSite</th>\n",
       "      <th>collectionSpecie</th>\n",
       "      <th>bioActivity</th>\n",
       "      <th>bioActivity_llm</th>\n",
       "      <th>collectionSite_llm</th>\n",
       "      <th>collectionSpecie_llm</th>\n",
       "      <th>collectionType_llm</th>\n",
       "      <th>name_llm</th>\n",
       "    </tr>\n",
       "  </thead>\n",
       "  <tbody>\n",
       "    <tr>\n",
       "      <th>0</th>\n",
       "      <td>10.1016/S0031-9422(00)00248-X</td>\n",
       "      <td>10.1016@S0031-9422(00)00248-X.pdf\\nPage 1\\nPyr...</td>\n",
       "      <td>[2'-hydroxy-3,4,4'-trimethoxy-5',6'-(2'',2''-d...</td>\n",
       "      <td>[Plant Isolated]</td>\n",
       "      <td>[N/A/ES]</td>\n",
       "      <td>[Neoraputia magnifica (Rutaceae)]</td>\n",
       "      <td>[Antitrypanosomal]</td>\n",
       "      <td>[Glycosomal glyceraldehyde-3-phosphate dehydro...</td>\n",
       "      <td>[Espirito Santo, Brazil]</td>\n",
       "      <td>[Neoraputia magnifica (Rutaceae)]</td>\n",
       "      <td>[Plant Isolated]</td>\n",
       "      <td>[2'-hydroxy-4,4',-dimethoxys-5',6'-(2',2''-dim...</td>\n",
       "    </tr>\n",
       "    <tr>\n",
       "      <th>1</th>\n",
       "      <td>10.1002/ptr.1249</td>\n",
       "      <td>10.1002@ptr.1249.pdf\\nPage 1\\nAntioxidant Flav...</td>\n",
       "      <td>[Ourateacatechin, (-)-Epigallocatechin, Proant...</td>\n",
       "      <td>[Plant Isolated]</td>\n",
       "      <td>[Ribeirao Preto/SP]</td>\n",
       "      <td>[Maytenus aquifolium (Celastraceae)]</td>\n",
       "      <td>[Antioxidant]</td>\n",
       "      <td>[Antioxidant]</td>\n",
       "      <td>[Ribeirao Preto/SP]</td>\n",
       "      <td>[Maytenus aquifolium (Celastraceae)]</td>\n",
       "      <td>[Plant Isolated]</td>\n",
       "      <td>[epigallocatechin, + ouratea-catechin, proanth...</td>\n",
       "    </tr>\n",
       "    <tr>\n",
       "      <th>2</th>\n",
       "      <td>10.1016/0031-9422(73)85048-4</td>\n",
       "      <td>10.1016@0031-9422(73)85048-4.pdf\\nPage 1\\nIso-...</td>\n",
       "      <td>[7-Hydroxy-4',6-dimethoxyisoflavone; Afrormosi...</td>\n",
       "      <td>[Plant Isolated]</td>\n",
       "      <td>[N/A/AM]</td>\n",
       "      <td>[Dalbergia riparia]</td>\n",
       "      <td>[Antitrypanosomal]</td>\n",
       "      <td>[Antifungal]</td>\n",
       "      <td>[N/A/ES]</td>\n",
       "      <td>[Dalbergia riparia (Leguminosae), Poecilanthe ...</td>\n",
       "      <td>[Plant Isolated]</td>\n",
       "      <td>[tectorigenin, (S)-4-methoxydalbergione, (6aS,...</td>\n",
       "    </tr>\n",
       "    <tr>\n",
       "      <th>3</th>\n",
       "      <td>10.1021/np0303963</td>\n",
       "      <td>10.1021@np0303963.pdf\\nPage 1\\nFurther Bioacti...</td>\n",
       "      <td>[(-)-3-O-acetyl-spectaline]</td>\n",
       "      <td>[Plant Isolated]</td>\n",
       "      <td>[Sao Paulo/SP]</td>\n",
       "      <td>[Cassia spectabilis (Fabaceae)]</td>\n",
       "      <td>[Cytotoxic]</td>\n",
       "      <td>[Genotoxic]</td>\n",
       "      <td>[Sao Paulo/SP]</td>\n",
       "      <td>[Cassia spectabilis]</td>\n",
       "      <td>[Plant Isolated]</td>\n",
       "      <td>[(-)-3-O-acetylspectaline, (-)-7-hydroxypedali...</td>\n",
       "    </tr>\n",
       "    <tr>\n",
       "      <th>4</th>\n",
       "      <td>10.4067/S0717-97072009000300004</td>\n",
       "      <td>10.4067@S0717-97072009000300004.pdf\\nPage 1\\nI...</td>\n",
       "      <td>[Taraxerol acetate]</td>\n",
       "      <td>[Plant Isolated]</td>\n",
       "      <td>[Sao Paulo/SP]</td>\n",
       "      <td>[Pterogyne nitens (Fabaceae)]</td>\n",
       "      <td>[Inhibition of Glycosidase]</td>\n",
       "      <td>[]</td>\n",
       "      <td>[Araraquara/SP]</td>\n",
       "      <td>[Pterogyne nitens (Fabaceae-Caesalpinioideae)]</td>\n",
       "      <td>[Plant Isolated]</td>\n",
       "      <td>[β-amyrin, lupenone, germanicone, β-sitosterol...</td>\n",
       "    </tr>\n",
       "    <tr>\n",
       "      <th>...</th>\n",
       "      <td>...</td>\n",
       "      <td>...</td>\n",
       "      <td>...</td>\n",
       "      <td>...</td>\n",
       "      <td>...</td>\n",
       "      <td>...</td>\n",
       "      <td>...</td>\n",
       "      <td>...</td>\n",
       "      <td>...</td>\n",
       "      <td>...</td>\n",
       "      <td>...</td>\n",
       "      <td>...</td>\n",
       "    </tr>\n",
       "    <tr>\n",
       "      <th>138</th>\n",
       "      <td>10.1080/14786410802243271</td>\n",
       "      <td>10.1080@14786410802243271.pdf\\nPage 1\\nTo cite...</td>\n",
       "      <td>[4-Hydroxy-(3',7'-dimethyl-1'-oxo-octa-2'-E-6'...</td>\n",
       "      <td>[Plant Isolated]</td>\n",
       "      <td>[N/A/SP]</td>\n",
       "      <td>[Piper crassinervium (Piperaceae)]</td>\n",
       "      <td>[Antitrypanosomal]</td>\n",
       "      <td>[Antichagasic]</td>\n",
       "      <td>[Vale do Ribeira, Atlantic Forest (Sao Paulo S...</td>\n",
       "      <td>[Piper crassinervium (Piperaceae)]</td>\n",
       "      <td>[Plant Isolated]</td>\n",
       "      <td>[4-hydroxy-(3',7'-dimethyl-1'-oxo-octa-2'-E_6'...</td>\n",
       "    </tr>\n",
       "    <tr>\n",
       "      <th>139</th>\n",
       "      <td>10.1590/S0100-40422006000300016</td>\n",
       "      <td>10.1590@S0100-40422006000300016.pdf\\nPage 1\\nC...</td>\n",
       "      <td>[(-)-Epigallocatechin-3-O-gallate]</td>\n",
       "      <td>[Plant Isolated]</td>\n",
       "      <td>[Ibate/SP]</td>\n",
       "      <td>[Chrysophyllum marginatum (Sapotaceae)]</td>\n",
       "      <td>[Antioxidant]</td>\n",
       "      <td>[Antioxidant]</td>\n",
       "      <td>[Ibate/SP]</td>\n",
       "      <td>[Chrysophyllum marginatum (Sapotaceae)]</td>\n",
       "      <td>[Plant Isolated]</td>\n",
       "      <td>[(\u0007lpha)-amirin, gallic acid, myricirin, querc...</td>\n",
       "    </tr>\n",
       "    <tr>\n",
       "      <th>140</th>\n",
       "      <td>10.1016/j.cbi.2010.08.008</td>\n",
       "      <td>10.1016@j.cbi.2010.08.008.pdf\\nPage 1\\nCaseari...</td>\n",
       "      <td>[Casearin X; (1R*,3S*,5S*,6aR*,7S*,8S*,10R*,10...</td>\n",
       "      <td>[Plant Isolated]</td>\n",
       "      <td>[Sao Miguel Arcanjo/SP]</td>\n",
       "      <td>[Casearia sylvestris (Flacourtiaceae)]</td>\n",
       "      <td>[Cytotoxic, Anticancer]</td>\n",
       "      <td>[Cytotoxic]</td>\n",
       "      <td>[Sao Miguel Arcanjo/SP]</td>\n",
       "      <td>[Casearia sylvestris (Salicaceae)]</td>\n",
       "      <td>[Plant Isolated]</td>\n",
       "      <td>[casearin L, casearin O, casearin X, (-)-hardw...</td>\n",
       "    </tr>\n",
       "    <tr>\n",
       "      <th>141</th>\n",
       "      <td>10.1016/S0031-9422(01)00431-9</td>\n",
       "      <td>10.1016@S0031-9422(01)00431-9.pdf\\nPage 1\\nAnt...</td>\n",
       "      <td>[Fagaramide, Methyl (E)-6,7,8-trimethoxycinnam...</td>\n",
       "      <td>[Plant Isolated]</td>\n",
       "      <td>[Araraquara/SP, Manaus/AM]</td>\n",
       "      <td>[Piper tuberculatum (Piperaceae), Piper arbore...</td>\n",
       "      <td>[Antifungal]</td>\n",
       "      <td>[Antifungal]</td>\n",
       "      <td>[Araraquara/SP, Manaus/AM]</td>\n",
       "      <td>[Piper arboreum (Piperaceae), Piper tuberculat...</td>\n",
       "      <td>[Plant Isolated]</td>\n",
       "      <td>[N-[10-(13,14-methylenedioxyphenyl)-7(E),9(Z)-...</td>\n",
       "    </tr>\n",
       "    <tr>\n",
       "      <th>142</th>\n",
       "      <td>10.1016/S0031-9422(97)00238-0</td>\n",
       "      <td>10.1016@S0031-9422(97)00238-0.pdf\\nPage 1\\nIri...</td>\n",
       "      <td>[Ferulic acid, α-Gardiol, β-Gardiol]</td>\n",
       "      <td>[Plant Isolated]</td>\n",
       "      <td>[Mogi Guacu/SP]</td>\n",
       "      <td>[Tocoyena formosa (Rubiaceae)]</td>\n",
       "      <td>[Antioxidant, Antifungal]</td>\n",
       "      <td>[Antifungal]</td>\n",
       "      <td>[Mogi Guacu/SP]</td>\n",
       "      <td>[Tocoyena formosa (Rubiaceae)]</td>\n",
       "      <td>[Plant Isolated]</td>\n",
       "      <td>[a-gardiol, b-gardiol, mollugoside methyl este...</td>\n",
       "    </tr>\n",
       "  </tbody>\n",
       "</table>\n",
       "<p>143 rows × 12 columns</p>\n",
       "</div>"
      ],
      "text/plain": [
       "                                 doi  \\\n",
       "0      10.1016/S0031-9422(00)00248-X   \n",
       "1                   10.1002/ptr.1249   \n",
       "2       10.1016/0031-9422(73)85048-4   \n",
       "3                  10.1021/np0303963   \n",
       "4    10.4067/S0717-97072009000300004   \n",
       "..                               ...   \n",
       "138        10.1080/14786410802243271   \n",
       "139  10.1590/S0100-40422006000300016   \n",
       "140        10.1016/j.cbi.2010.08.008   \n",
       "141    10.1016/S0031-9422(01)00431-9   \n",
       "142    10.1016/S0031-9422(97)00238-0   \n",
       "\n",
       "                                                 texto  \\\n",
       "0    10.1016@S0031-9422(00)00248-X.pdf\\nPage 1\\nPyr...   \n",
       "1    10.1002@ptr.1249.pdf\\nPage 1\\nAntioxidant Flav...   \n",
       "2    10.1016@0031-9422(73)85048-4.pdf\\nPage 1\\nIso-...   \n",
       "3    10.1021@np0303963.pdf\\nPage 1\\nFurther Bioacti...   \n",
       "4    10.4067@S0717-97072009000300004.pdf\\nPage 1\\nI...   \n",
       "..                                                 ...   \n",
       "138  10.1080@14786410802243271.pdf\\nPage 1\\nTo cite...   \n",
       "139  10.1590@S0100-40422006000300016.pdf\\nPage 1\\nC...   \n",
       "140  10.1016@j.cbi.2010.08.008.pdf\\nPage 1\\nCaseari...   \n",
       "141  10.1016@S0031-9422(01)00431-9.pdf\\nPage 1\\nAnt...   \n",
       "142  10.1016@S0031-9422(97)00238-0.pdf\\nPage 1\\nIri...   \n",
       "\n",
       "                                                  name    collectionType  \\\n",
       "0    [2'-hydroxy-3,4,4'-trimethoxy-5',6'-(2'',2''-d...  [Plant Isolated]   \n",
       "1    [Ourateacatechin, (-)-Epigallocatechin, Proant...  [Plant Isolated]   \n",
       "2    [7-Hydroxy-4',6-dimethoxyisoflavone; Afrormosi...  [Plant Isolated]   \n",
       "3                          [(-)-3-O-acetyl-spectaline]  [Plant Isolated]   \n",
       "4                                  [Taraxerol acetate]  [Plant Isolated]   \n",
       "..                                                 ...               ...   \n",
       "138  [4-Hydroxy-(3',7'-dimethyl-1'-oxo-octa-2'-E-6'...  [Plant Isolated]   \n",
       "139                 [(-)-Epigallocatechin-3-O-gallate]  [Plant Isolated]   \n",
       "140  [Casearin X; (1R*,3S*,5S*,6aR*,7S*,8S*,10R*,10...  [Plant Isolated]   \n",
       "141  [Fagaramide, Methyl (E)-6,7,8-trimethoxycinnam...  [Plant Isolated]   \n",
       "142               [Ferulic acid, α-Gardiol, β-Gardiol]  [Plant Isolated]   \n",
       "\n",
       "                 collectionSite  \\\n",
       "0                      [N/A/ES]   \n",
       "1           [Ribeirao Preto/SP]   \n",
       "2                      [N/A/AM]   \n",
       "3                [Sao Paulo/SP]   \n",
       "4                [Sao Paulo/SP]   \n",
       "..                          ...   \n",
       "138                    [N/A/SP]   \n",
       "139                  [Ibate/SP]   \n",
       "140     [Sao Miguel Arcanjo/SP]   \n",
       "141  [Araraquara/SP, Manaus/AM]   \n",
       "142             [Mogi Guacu/SP]   \n",
       "\n",
       "                                      collectionSpecie  \\\n",
       "0                    [Neoraputia magnifica (Rutaceae)]   \n",
       "1                 [Maytenus aquifolium (Celastraceae)]   \n",
       "2                                  [Dalbergia riparia]   \n",
       "3                      [Cassia spectabilis (Fabaceae)]   \n",
       "4                        [Pterogyne nitens (Fabaceae)]   \n",
       "..                                                 ...   \n",
       "138                 [Piper crassinervium (Piperaceae)]   \n",
       "139            [Chrysophyllum marginatum (Sapotaceae)]   \n",
       "140             [Casearia sylvestris (Flacourtiaceae)]   \n",
       "141  [Piper tuberculatum (Piperaceae), Piper arbore...   \n",
       "142                     [Tocoyena formosa (Rubiaceae)]   \n",
       "\n",
       "                     bioActivity  \\\n",
       "0             [Antitrypanosomal]   \n",
       "1                  [Antioxidant]   \n",
       "2             [Antitrypanosomal]   \n",
       "3                    [Cytotoxic]   \n",
       "4    [Inhibition of Glycosidase]   \n",
       "..                           ...   \n",
       "138           [Antitrypanosomal]   \n",
       "139                [Antioxidant]   \n",
       "140      [Cytotoxic, Anticancer]   \n",
       "141                 [Antifungal]   \n",
       "142    [Antioxidant, Antifungal]   \n",
       "\n",
       "                                       bioActivity_llm  \\\n",
       "0    [Glycosomal glyceraldehyde-3-phosphate dehydro...   \n",
       "1                                        [Antioxidant]   \n",
       "2                                         [Antifungal]   \n",
       "3                                          [Genotoxic]   \n",
       "4                                                   []   \n",
       "..                                                 ...   \n",
       "138                                     [Antichagasic]   \n",
       "139                                      [Antioxidant]   \n",
       "140                                        [Cytotoxic]   \n",
       "141                                       [Antifungal]   \n",
       "142                                       [Antifungal]   \n",
       "\n",
       "                                    collectionSite_llm  \\\n",
       "0                             [Espirito Santo, Brazil]   \n",
       "1                                  [Ribeirao Preto/SP]   \n",
       "2                                             [N/A/ES]   \n",
       "3                                       [Sao Paulo/SP]   \n",
       "4                                      [Araraquara/SP]   \n",
       "..                                                 ...   \n",
       "138  [Vale do Ribeira, Atlantic Forest (Sao Paulo S...   \n",
       "139                                         [Ibate/SP]   \n",
       "140                            [Sao Miguel Arcanjo/SP]   \n",
       "141                         [Araraquara/SP, Manaus/AM]   \n",
       "142                                    [Mogi Guacu/SP]   \n",
       "\n",
       "                                  collectionSpecie_llm collectionType_llm  \\\n",
       "0                    [Neoraputia magnifica (Rutaceae)]   [Plant Isolated]   \n",
       "1                 [Maytenus aquifolium (Celastraceae)]   [Plant Isolated]   \n",
       "2    [Dalbergia riparia (Leguminosae), Poecilanthe ...   [Plant Isolated]   \n",
       "3                                 [Cassia spectabilis]   [Plant Isolated]   \n",
       "4       [Pterogyne nitens (Fabaceae-Caesalpinioideae)]   [Plant Isolated]   \n",
       "..                                                 ...                ...   \n",
       "138                 [Piper crassinervium (Piperaceae)]   [Plant Isolated]   \n",
       "139            [Chrysophyllum marginatum (Sapotaceae)]   [Plant Isolated]   \n",
       "140                 [Casearia sylvestris (Salicaceae)]   [Plant Isolated]   \n",
       "141  [Piper arboreum (Piperaceae), Piper tuberculat...   [Plant Isolated]   \n",
       "142                     [Tocoyena formosa (Rubiaceae)]   [Plant Isolated]   \n",
       "\n",
       "                                              name_llm  \n",
       "0    [2'-hydroxy-4,4',-dimethoxys-5',6'-(2',2''-dim...  \n",
       "1    [epigallocatechin, + ouratea-catechin, proanth...  \n",
       "2    [tectorigenin, (S)-4-methoxydalbergione, (6aS,...  \n",
       "3    [(-)-3-O-acetylspectaline, (-)-7-hydroxypedali...  \n",
       "4    [β-amyrin, lupenone, germanicone, β-sitosterol...  \n",
       "..                                                 ...  \n",
       "138  [4-hydroxy-(3',7'-dimethyl-1'-oxo-octa-2'-E_6'...  \n",
       "139  [(\u0007lpha)-amirin, gallic acid, myricirin, querc...  \n",
       "140  [casearin L, casearin O, casearin X, (-)-hardw...  \n",
       "141  [N-[10-(13,14-methylenedioxyphenyl)-7(E),9(Z)-...  \n",
       "142  [a-gardiol, b-gardiol, mollugoside methyl este...  \n",
       "\n",
       "[143 rows x 12 columns]"
      ]
     },
     "execution_count": 2,
     "metadata": {},
     "output_type": "execute_result"
    }
   ],
   "source": [
    "import pandas as pd\n",
    "df = pd.read_pickle('df_qwen32b-zero-shot-clean.pkl')\n",
    "df"
   ]
  },
  {
   "cell_type": "code",
   "execution_count": 2,
   "id": "53450ac3",
   "metadata": {},
   "outputs": [
    {
     "data": {
      "text/plain": [
       "'o'"
      ]
     },
     "execution_count": 2,
     "metadata": {},
     "output_type": "execute_result"
    }
   ],
   "source": [
    "teste = 'olaoka'\n",
    "\n",
    "teste[:-5]"
   ]
  },
  {
   "cell_type": "code",
   "execution_count": 3,
   "id": "4d0d68ba",
   "metadata": {},
   "outputs": [
    {
     "name": "stdout",
     "output_type": "stream",
     "text": [
      "bioActivity 1st 0.6935292848924094\n",
      "bioActivity 2nd 0.7054687059686798\n",
      "bioActivity 3rd 0.7266356817128717\n",
      "bioActivity 4th 0.7381682174785622\n",
      "collectionSite 1st 0.6343327614878768\n",
      "collectionSite 2nd 0.6442599880389964\n",
      "collectionSite 3rd 0.6573819960612413\n",
      "collectionSite 4th 0.6537037037037037\n",
      "collectionSpecie 1st 0.4633383839790192\n",
      "collectionSpecie 2nd 0.47448114348390247\n",
      "collectionSpecie 3rd 0.4920662978996312\n",
      "collectionSpecie 4th 0.45513668430335097\n",
      "collectionType 1st 0.9512793044558299\n",
      "collectionType 2nd 0.9549962884825755\n",
      "collectionType 3rd 0.9603198653198654\n",
      "collectionType 4th 0.9666666666666666\n",
      "name 1st 0.09038404066010972\n",
      "name 2nd 0.09068725402916948\n",
      "name 3rd 0.08336312711907634\n",
      "name 4th 0.1068752036493972\n"
     ]
    }
   ],
   "source": [
    "estagios = ['1st', '2nd', '3rd', '4th']\n",
    "folds = ['0', '1', '2', '3', '4', '5', '6', '7', '8', '9']\n",
    "tarefas = ['bioActivity', 'collectionSite', 'collectionSpecie', 'collectionType', 'name']\n",
    "\n",
    "hit_k = {\n",
    "    \"name\": [],\n",
    "    \"bioActivity\": [],\n",
    "    \"collectionSpecie\": [],\n",
    "    \"collectionType\": [],\n",
    "    \"collectionSite\": []\n",
    "}\n",
    "\n",
    "k = {\n",
    "    \"name\": 50,\n",
    "    \"bioActivity\": 5,\n",
    "    \"collectionSpecie\": 50,\n",
    "    \"collectionType\": 1,\n",
    "    \"collectionSite\": 20\n",
    "}\n",
    "\n",
    "import numpy as np\n",
    "def hits_at(k, true, list_pred):\n",
    "    hits = []\n",
    "    for t in true:\n",
    "        hit = False\n",
    "        for index_lp, lp in enumerate(list_pred):\n",
    "            if index_lp >= k:\n",
    "                break\n",
    "            if t == lp:\n",
    "                hits.append(1)\n",
    "                hit = True\n",
    "                break\n",
    "        if not(hit):\n",
    "            hits.append(0)\n",
    "    return np.mean(hits)\n",
    "\n",
    "for tarefa in tarefas:\n",
    "    for estagio in estagios:\n",
    "        l_folds = []\n",
    "        for fold in folds:\n",
    "            name_file = 'splits/test_doi_' + tarefa + '_' + fold + '_' + estagio + '.csv'\n",
    "            data = pd.read_csv(name_file) \n",
    "            list_doi = data['node'].to_list()\n",
    "            df_filtrado = df[df['doi'].isin(list_doi)]\n",
    "            l = []\n",
    "            for index, row in df_filtrado.iterrows():\n",
    "                pred_j = row[tarefa + '_llm']\n",
    "                true_j = row[tarefa]\n",
    "                resultado_fold = hits_at(k[tarefa], true_j, pred_j)\n",
    "                l.append(resultado_fold)\n",
    "\n",
    "            l_folds.append(np.mean(l))\n",
    "        print(tarefa, estagio, np.mean(l_folds))"
   ]
  }
 ],
 "metadata": {
  "kernelspec": {
   "display_name": "text2sparql_env",
   "language": "python",
   "name": "python3"
  },
  "language_info": {
   "codemirror_mode": {
    "name": "ipython",
    "version": 3
   },
   "file_extension": ".py",
   "mimetype": "text/x-python",
   "name": "python",
   "nbconvert_exporter": "python",
   "pygments_lexer": "ipython3",
   "version": "3.12.9"
  }
 },
 "nbformat": 4,
 "nbformat_minor": 5
}
